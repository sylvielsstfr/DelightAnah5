{
 "cells": [
  {
   "cell_type": "markdown",
   "metadata": {},
   "source": [
    "# Check DC2 Files\n",
    "\n",
    "- author : Sylvie Dagoret-Campagne\n",
    "- affiliation : IJCLab/IN2P3/CNRS\n",
    "- creation date : 2024-11-03\n",
    "- last update :  2024-11-03\n"
   ]
  },
  {
   "cell_type": "code",
   "execution_count": null,
   "metadata": {},
   "outputs": [],
   "source": [
    "from rail.utils.path_utils import find_rail_file\n",
    "import h5py\n",
    "import pandas as pd\n",
    "import numpy as np\n",
    "import astropy\n",
    "from astropy import units as u\n",
    "from astropy import constants as c\n",
    "import matplotlib.pyplot as plt\n",
    "\n",
    "%matplotlib inline"
   ]
  },
  {
   "cell_type": "code",
   "execution_count": null,
   "metadata": {},
   "outputs": [],
   "source": [
    "# reference flux in Jy\n",
    "F0 = ((0.0 * u.ABmag).to(u.Jy)).value\n",
    "F0"
   ]
  },
  {
   "cell_type": "markdown",
   "metadata": {},
   "source": [
    "## Config"
   ]
  },
  {
   "cell_type": "code",
   "execution_count": null,
   "metadata": {},
   "outputs": [],
   "source": [
    "trainFile = find_rail_file(\"examples_data/testdata/test_dc2_training_9816.hdf5\")\n",
    "testFile = find_rail_file(\"examples_data/testdata/test_dc2_validation_9816.hdf5\")"
   ]
  },
  {
   "cell_type": "code",
   "execution_count": null,
   "metadata": {},
   "outputs": [],
   "source": [
    "# the order by which one want the data\n",
    "list_of_cols = [\n",
    "    \"id\",\n",
    "    \"redshift\",\n",
    "    \"mag_u_lsst\",\n",
    "    \"mag_g_lsst\",\n",
    "    \"mag_r_lsst\",\n",
    "    \"mag_i_lsst\",\n",
    "    \"mag_z_lsst\",\n",
    "    \"mag_y_lsst\",\n",
    "    \"mag_err_u_lsst\",\n",
    "    \"mag_err_g_lsst\",\n",
    "    \"mag_err_r_lsst\",\n",
    "    \"mag_err_i_lsst\",\n",
    "    \"mag_err_z_lsst\",\n",
    "    \"mag_err_y_lsst\",\n",
    "]\n",
    "list_of_filters = [\"u\", \"g\", \"r\", \"i\", \"z\", \"y\"]\n",
    "list_of_fitcolors = [\"b\", \"g\", \"r\", \"orange\", \"grey\", \"k\"]\n",
    "Nf = len(list_of_filters)"
   ]
  },
  {
   "cell_type": "markdown",
   "metadata": {},
   "source": [
    "## Read magnitudes file in pandas dataframe"
   ]
  },
  {
   "cell_type": "code",
   "execution_count": null,
   "metadata": {},
   "outputs": [],
   "source": [
    "def h5filetodataframe(filename, group=\"photometry\"):\n",
    "    \"\"\"\n",
    "    Function to convert the LSST magnitudes hdf5 file into a pandas dataFrame\n",
    "    \"\"\"\n",
    "    data = h5py.File(filename, \"r\")\n",
    "    list_of_keys = list(data[group].keys())\n",
    "    all_data = np.array([data[group][key][:] for key in list_of_keys])\n",
    "    df = pd.DataFrame(all_data.T, columns=list_of_keys)\n",
    "    if \"id\" in list_of_keys:\n",
    "        df = df.astype({\"id\": int})\n",
    "    return df"
   ]
  },
  {
   "cell_type": "code",
   "execution_count": null,
   "metadata": {},
   "outputs": [],
   "source": [
    "df_train = h5filetodataframe(trainFile)\n",
    "df_test = h5filetodataframe(testFile)"
   ]
  },
  {
   "cell_type": "code",
   "execution_count": null,
   "metadata": {},
   "outputs": [],
   "source": [
    "df_train = df_train[list_of_cols]\n",
    "df_test = df_test[list_of_cols]"
   ]
  },
  {
   "cell_type": "code",
   "execution_count": null,
   "metadata": {},
   "outputs": [],
   "source": [
    "df_train"
   ]
  },
  {
   "cell_type": "code",
   "execution_count": null,
   "metadata": {},
   "outputs": [],
   "source": [
    "df_train.isnull().values.any()"
   ]
  },
  {
   "cell_type": "code",
   "execution_count": null,
   "metadata": {},
   "outputs": [],
   "source": [
    "df_test"
   ]
  },
  {
   "cell_type": "code",
   "execution_count": null,
   "metadata": {},
   "outputs": [],
   "source": [
    "df_test.isnull().values.any()"
   ]
  },
  {
   "cell_type": "code",
   "execution_count": null,
   "metadata": {},
   "outputs": [],
   "source": [
    "df_train.describe()"
   ]
  },
  {
   "cell_type": "code",
   "execution_count": null,
   "metadata": {},
   "outputs": [],
   "source": [
    "df_test.describe()"
   ]
  },
  {
   "cell_type": "markdown",
   "metadata": {},
   "source": [
    "## Convert "
   ]
  },
  {
   "cell_type": "code",
   "execution_count": null,
   "metadata": {},
   "outputs": [],
   "source": [
    "def CheckBadFluxes(fl, dfl, mag, dmag, maxmag=30.0):\n",
    "    \"\"\" \"\"\"\n",
    "    indexes_bad = np.where(mag > maxmag)[0]\n",
    "    indexes_good = np.where(mag < maxmag)[0]\n",
    "\n",
    "    if len(indexes_bad) > 0:\n",
    "        for idx in indexes_bad:\n",
    "            # in band g,r,i,z\n",
    "            if idx > 0 and idx < Nf - 1:\n",
    "                # have two good neighbourgs\n",
    "                if idx - 1 in indexes_good and idx + 1 in indexes_good:\n",
    "                    fl[idx] = np.mean([fl[idx - 1], fl[idx + 1]])\n",
    "                    dfl[idx] = np.max([dfl[idx - 1], dfl[idx + 1]]) * 5.0\n",
    "                elif idx - 1 in indexes_good:\n",
    "                    fl[idx] = fl[idx - 1]\n",
    "                    dfl[idx] = dfl[idx - 1] * 10.0\n",
    "                elif idx + 1 in indexes_good:\n",
    "                    fl[idx] = fl[idx + 1]\n",
    "                    dfl[idx] = dfl[idx + 1] * 10.0\n",
    "                else:\n",
    "                    fl[idx] = np.mean(fl[indexes_good])\n",
    "                    dfl[idx] = np.max(fl[indexes_good]) * 100.0\n",
    "            elif idx == 0:\n",
    "                if idx + 1 in indexes_good:\n",
    "                    fl[idx] = fl[idx + 1]\n",
    "                    dfl[idx] = dfl[idx + 1] * 10.0\n",
    "                else:\n",
    "                    fl[idx] = np.mean(fl[indexes_good])\n",
    "                    dfl[idx] = np.max(fl[indexes_good]) * 100.0\n",
    "            elif idx == Nf - 1:\n",
    "                if idx - 1 in indexes_good:\n",
    "                    fl[idx] = fl[idx - 1]\n",
    "                    dfl[idx] = dfl[idx - 1] * 10.0\n",
    "                else:\n",
    "                    fl[idx] = np.mean(fl[indexes_good])\n",
    "                    dfl[idx] = np.max(fl[indexes_good]) * 100.0\n",
    "\n",
    "    return fl, dfl"
   ]
  },
  {
   "cell_type": "code",
   "execution_count": null,
   "metadata": {},
   "outputs": [],
   "source": [
    "def convert_to_ABflux(row):\n",
    "    \"\"\"\n",
    "    Convert AB magnitudes into FAB flux (units AB, that is per 3631 Jy\n",
    "    \"\"\"\n",
    "\n",
    "    fl = np.zeros(Nf)\n",
    "    dfl = np.zeros(Nf)\n",
    "    mag = np.zeros(Nf)\n",
    "    dmag = np.zeros(Nf)\n",
    "    all_fname = []\n",
    "    all_ferrname = []\n",
    "\n",
    "    for idx, band in enumerate(list_of_filters):\n",
    "        mag_label = f\"mag_{band}_lsst\"\n",
    "        magerr_label = f\"mag_err_{band}_lsst\"\n",
    "        flux_label = f\"fab_{band}_lsst\"\n",
    "        fluxerr_label = f\"fab_err_{band}_lsst\"\n",
    "        m = row[mag_label]\n",
    "        dm = row[magerr_label]\n",
    "        f = np.power(10.0, -0.4 * m)\n",
    "        df = np.log(10.0) / 2.5 * f * dm\n",
    "        fl[idx] = f\n",
    "        mag[idx] = m\n",
    "        dfl[idx] = df\n",
    "        dmag[idx] = dm\n",
    "        all_fname.append(flux_label)\n",
    "        all_ferrname.append(fluxerr_label)\n",
    "\n",
    "    # decide what to do if one magnitude is too high\n",
    "    fl, dfl = CheckBadFluxes(fl, dfl, mag, dmag)\n",
    "    column_names = all_fname + all_ferrname\n",
    "    data = np.concatenate((fl, dfl))\n",
    "    return pd.Series(data, index=column_names)"
   ]
  },
  {
   "cell_type": "code",
   "execution_count": null,
   "metadata": {},
   "outputs": [],
   "source": [
    "df_train_fl = df_train.apply(convert_to_ABflux, axis=1)"
   ]
  },
  {
   "cell_type": "code",
   "execution_count": null,
   "metadata": {},
   "outputs": [],
   "source": [
    "df_test_fl = df_test.apply(convert_to_ABflux, axis=1)"
   ]
  },
  {
   "cell_type": "code",
   "execution_count": null,
   "metadata": {},
   "outputs": [],
   "source": [
    "df_train_fl.isnull().values.any()"
   ]
  },
  {
   "cell_type": "code",
   "execution_count": null,
   "metadata": {},
   "outputs": [],
   "source": [
    "df_test_fl.isnull().values.any()"
   ]
  },
  {
   "cell_type": "code",
   "execution_count": null,
   "metadata": {},
   "outputs": [],
   "source": [
    "flux_col = [f\"fab_{band}_lsst\" for band in list_of_filters]\n",
    "eflux_col = [f\"fab_err_{band}_lsst\" for band in list_of_filters]"
   ]
  },
  {
   "cell_type": "code",
   "execution_count": null,
   "metadata": {},
   "outputs": [],
   "source": [
    "fig, ax = plt.subplots(1, 1, figsize=(8, 6))\n",
    "\n",
    "for ifilt in range(Nf):\n",
    "    tag = flux_col[ifilt]\n",
    "    xval = -2.5 * np.log10(df_test_fl[tag])\n",
    "    legname = list_of_filters[ifilt]\n",
    "    ax.hist(xval, bins=100, histtype=\"step\", lw=3, color=list_of_fitcolors[ifilt], label=legname)\n",
    "ax.set_xlabel(\"-2.5*log_10(Flux) in AB unit\")\n",
    "ax.set_ylabel(\"nb of galaxies\")\n",
    "ax.set_title(\"Distribution of Fluxes\")\n",
    "ax.legend(loc=\"upper right\")"
   ]
  },
  {
   "cell_type": "code",
   "execution_count": null,
   "metadata": {},
   "outputs": [],
   "source": [
    "fig, ax = plt.subplots(1, 1, figsize=(8, 6))\n",
    "\n",
    "for ifilt in range(Nf):\n",
    "    tag = flux_col[ifilt]\n",
    "    etag = eflux_col[ifilt]\n",
    "    xval = -2.5 * np.log10(df_test_fl[tag])\n",
    "    yval = -2.5 * np.log10(df_test_fl[etag])\n",
    "    legname = list_of_filters[ifilt]\n",
    "    plt.scatter(xval, yval, marker=\".\", color=list_of_fitcolors[ifilt], label=legname)\n",
    "ax.set_xlabel(\"-2.5*log_10(Flux) in AB unit\")\n",
    "ax.set_ylabel(\"-2.5*log_10(Flux_Err) in AB unit\")\n",
    "ax.set_title(\"Flux err vs Fluxes\")\n",
    "ax.legend(loc=\"upper right\")"
   ]
  },
  {
   "cell_type": "code",
   "execution_count": null,
   "metadata": {},
   "outputs": [],
   "source": []
  }
 ],
 "metadata": {
  "anaconda-cloud": {},
  "kernelspec": {
   "display_name": "py310_rail",
   "language": "python",
   "name": "py310_rail"
  },
  "language_info": {
   "codemirror_mode": {
    "name": "ipython",
    "version": 3
   },
   "file_extension": ".py",
   "mimetype": "text/x-python",
   "name": "python",
   "nbconvert_exporter": "python",
   "pygments_lexer": "ipython3",
   "version": "3.10.15"
  }
 },
 "nbformat": 4,
 "nbformat_minor": 4
}
