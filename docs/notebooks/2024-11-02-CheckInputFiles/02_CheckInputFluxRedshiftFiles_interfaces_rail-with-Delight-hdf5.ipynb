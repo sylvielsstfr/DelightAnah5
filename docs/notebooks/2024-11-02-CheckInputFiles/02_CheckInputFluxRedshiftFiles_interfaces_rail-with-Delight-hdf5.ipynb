{
 "cells": [
  {
   "cell_type": "markdown",
   "metadata": {},
   "source": [
    "# Check input files\n",
    "\n",
    "## Insprired from Getting started with Delight and LSST\n",
    "\n",
    "\n",
    "- author : Sylvie Dagoret-Campagne\n",
    "- affiliation : IJCLab/IN2P3/CNRS\n",
    "- creation date : 2024-11-02\n",
    "- last update :  2024-11-02\n",
    "\n",
    "\n",
    "\n",
    "**test delight.interface.rail** : adaptation of the original tutorial on SDSS and Getting started.\n",
    "\n",
    "\n",
    "- run at NERSC with **desc-python** python kernel.\n",
    "\n",
    "\n",
    "Instruction to have a **desc-python** environnement:\n",
    "- https://confluence.slac.stanford.edu/display/LSSTDESC/Getting+Started+with+Anaconda+Python+at+NERSC\n",
    "\n",
    "\n",
    "This environnement is a clone from the **desc-python** environnement where package required in requirements can be addded according the instructions here\n",
    "- https://github.com/LSSTDESC/desc-python/wiki/Add-Packages-to-the-desc-python-environment"
   ]
  },
  {
   "cell_type": "markdown",
   "metadata": {},
   "source": [
    "We will use the parameter file \"tmps/parametersTestRail.cfg\".\n",
    "This contains a description of the bands and data to be used.\n",
    "In this example we will generate mock data for the ugrizy LSST bands,\n",
    "fit each object with our GP using ugi bands only and see how it predicts the rz bands.\n",
    "This is an example for filling in/predicting missing bands in a fully bayesian way\n",
    "with a flexible SED model quickly via our photo-z GP."
   ]
  },
  {
   "cell_type": "code",
   "execution_count": null,
   "metadata": {
    "tags": []
   },
   "outputs": [],
   "source": [
    "%matplotlib inline\n",
    "import numpy as np\n",
    "import matplotlib.pyplot as plt\n",
    "import scipy.stats\n",
    "import sys, os, h5py\n",
    "\n",
    "sys.path.append(\"../..\")\n",
    "from delight.io import *\n",
    "from delight.utils import *\n",
    "from delight.photoz_gp import PhotozGP"
   ]
  },
  {
   "cell_type": "code",
   "execution_count": null,
   "metadata": {},
   "outputs": [],
   "source": [
    "from delight.interfaces.rail.makeConfigParam import makeConfigParam"
   ]
  },
  {
   "cell_type": "code",
   "execution_count": null,
   "metadata": {},
   "outputs": [],
   "source": [
    "# path of the config parameter file\n",
    "param_path = \".\"\n",
    "configfullfilename = \"./parametersTest.cfg\""
   ]
  },
  {
   "cell_type": "markdown",
   "metadata": {},
   "source": [
    "- **makeConfigParam** generate a long string defining required parameters"
   ]
  },
  {
   "cell_type": "code",
   "execution_count": null,
   "metadata": {},
   "outputs": [],
   "source": [
    "params = parseParamFile(configfullfilename, verbose=False)"
   ]
  },
  {
   "cell_type": "code",
   "execution_count": null,
   "metadata": {},
   "outputs": [],
   "source": [
    "params"
   ]
  },
  {
   "cell_type": "markdown",
   "metadata": {},
   "source": [
    "## Conclusion\n",
    "Don't be too harsh with the results of the standard template fitting or the new methods since both have a lot of parameters which can be optimized!\n",
    "\n",
    "If the results above made sense, i.e. the redshifts are reasonnable for both methods on the mock data, then you can start modifying the parameter files and creating catalog files containing actual data! I recommend using less than 20k galaxies for training, and 1000 or 10k galaxies for the delight-apply script at the moment. Future updates will address this issue."
   ]
  },
  {
   "cell_type": "markdown",
   "metadata": {},
   "source": [
    "## Test compatibility between textfile and hdf5file"
   ]
  },
  {
   "cell_type": "code",
   "execution_count": null,
   "metadata": {},
   "outputs": [],
   "source": [
    "def test_file_same(file_txt, file_hdf, prefix):\n",
    "    \"\"\" \"\"\"\n",
    "    try:\n",
    "        # if os.path.exists(file_txt):\n",
    "        arr_txt = np.loadtxt(file_txt)\n",
    "    except Exception as inst:\n",
    "        print(f\">>>> file {file_txt} does not exists ::\", inst)\n",
    "        exit(-1)\n",
    "    try:\n",
    "        # if os.path.exists(file_txt):\n",
    "        arr_h5 = readdataarrayh5(file_hdf, prefix=prefix)\n",
    "    except Exception as inst:\n",
    "        print(f\">>>> file {file_hdf} does not exists or bad prefix::\", inst)\n",
    "        exit(-1)\n",
    "\n",
    "    # return np.array_equal(arr_txt,arr_h5)\n",
    "    # return np.allclose(arr_txt,arr_h5,rtol=1e-10)\n",
    "    return arr_txt, arr_h5"
   ]
  },
  {
   "cell_type": "code",
   "execution_count": null,
   "metadata": {},
   "outputs": [],
   "source": [
    "file_txt = params[\"training_\" + \"catFile\"]\n",
    "file_hdf = getFilePathh5(params, prefix=\"training_\", ftype=\"catalog\")\n",
    "print(file_txt, file_hdf)\n",
    "arr_txt, arr_h5 = test_file_same(file_txt, file_hdf, prefix=\"training_\")\n",
    "np.allclose(arr_txt, arr_h5, rtol=1e-12)"
   ]
  },
  {
   "cell_type": "code",
   "execution_count": null,
   "metadata": {},
   "outputs": [],
   "source": [
    "arr_h5.shape"
   ]
  },
  {
   "cell_type": "code",
   "execution_count": null,
   "metadata": {},
   "outputs": [],
   "source": [
    "file_txt = params[\"target_\" + \"catFile\"]\n",
    "file_hdf = getFilePathh5(params, prefix=\"target_\", ftype=\"catalog\")\n",
    "print(file_txt, file_hdf)\n",
    "arr_txt, arr_h5 = test_file_same(file_txt, file_hdf, prefix=\"target_\")\n",
    "np.allclose(arr_txt, arr_h5, rtol=1e-12)"
   ]
  },
  {
   "cell_type": "code",
   "execution_count": null,
   "metadata": {},
   "outputs": [],
   "source": [
    "arr_txt.shape"
   ]
  },
  {
   "cell_type": "code",
   "execution_count": null,
   "metadata": {},
   "outputs": [],
   "source": [
    "arr_h5.shape"
   ]
  },
  {
   "cell_type": "code",
   "execution_count": null,
   "metadata": {},
   "outputs": [],
   "source": [
    "np.argwhere(np.isnan(arr_h5))"
   ]
  },
  {
   "cell_type": "code",
   "execution_count": null,
   "metadata": {},
   "outputs": [],
   "source": [
    "plt.hist(arr_h5[:, 13], bins=100);"
   ]
  },
  {
   "cell_type": "code",
   "execution_count": null,
   "metadata": {},
   "outputs": [],
   "source": []
  }
 ],
 "metadata": {
  "anaconda-cloud": {},
  "kernelspec": {
   "display_name": "py310_rail",
   "language": "python",
   "name": "py310_rail"
  },
  "language_info": {
   "codemirror_mode": {
    "name": "ipython",
    "version": 3
   },
   "file_extension": ".py",
   "mimetype": "text/x-python",
   "name": "python",
   "nbconvert_exporter": "python",
   "pygments_lexer": "ipython3",
   "version": "3.10.15"
  }
 },
 "nbformat": 4,
 "nbformat_minor": 4
}
