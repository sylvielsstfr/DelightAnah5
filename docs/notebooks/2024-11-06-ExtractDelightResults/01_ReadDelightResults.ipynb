{
 "cells": [
  {
   "cell_type": "markdown",
   "metadata": {},
   "source": [
    "# Read Delight Results\n",
    "\n",
    "- author : Sylvie Dagoret-Campagne\n",
    "- affiliation : IJCLab/IN2P3/CNRS\n",
    "- creation date : 2024-11-06\n",
    "- last update :  2024-11-06\n"
   ]
  },
  {
   "cell_type": "code",
   "execution_count": null,
   "metadata": {},
   "outputs": [],
   "source": [
    "from rail.utils.path_utils import find_rail_file\n",
    "from delight.interfaces.rail.getDelightRedshiftEstimation import *\n",
    "import h5py\n",
    "import pandas as pd\n",
    "import numpy as np\n",
    "import astropy\n",
    "from astropy import units as u\n",
    "from astropy import constants as c\n",
    "import matplotlib.pyplot as plt\n",
    "from delight.io import *\n",
    "\n",
    "%matplotlib inline"
   ]
  },
  {
   "cell_type": "code",
   "execution_count": null,
   "metadata": {},
   "outputs": [],
   "source": [
    "import matplotlib as mpl"
   ]
  },
  {
   "cell_type": "code",
   "execution_count": null,
   "metadata": {},
   "outputs": [],
   "source": [
    "# reference flux in Jy\n",
    "F0 = ((0.0 * u.ABmag).to(u.Jy)).value\n",
    "F0"
   ]
  },
  {
   "cell_type": "markdown",
   "metadata": {},
   "source": [
    "## Configuration files for target (test) data "
   ]
  },
  {
   "cell_type": "code",
   "execution_count": null,
   "metadata": {},
   "outputs": [],
   "source": [
    "all_configfilenames = [\"parametersTest_1.cfg\", \"parametersTest_2.cfg\", \"parametersTest_3.cfg\"]"
   ]
  },
  {
   "cell_type": "markdown",
   "metadata": {},
   "source": [
    "## Read the target redshifts"
   ]
  },
  {
   "cell_type": "code",
   "execution_count": null,
   "metadata": {},
   "outputs": [],
   "source": [
    "all_redshifts_targets = []\n",
    "for configfilename in all_configfilenames:\n",
    "    params = parseParamFile(configfilename, verbose=False)\n",
    "    inputs = getdatah5(params[\"targetFile\"], prefix=\"target_\")\n",
    "    redshifts = inputs[:, -2]\n",
    "    all_redshifts_targets.append(redshifts)"
   ]
  },
  {
   "cell_type": "markdown",
   "metadata": {},
   "source": [
    "## Get the results"
   ]
  },
  {
   "cell_type": "code",
   "execution_count": null,
   "metadata": {},
   "outputs": [],
   "source": [
    "all_zmode_gp = []\n",
    "all_zmode_temp = []\n",
    "for idx, configfilename in enumerate(all_configfilenames):\n",
    "    zmode_gp, pdfs_gp = getDelightRedshiftEstimationh5(configfilename, idx, prefix=\"gp_pdfs_\")\n",
    "    zmode_temp, pdfs_temp = getDelightRedshiftEstimationh5(configfilename, idx, prefix=\"temp_pdfs_\")\n",
    "    all_zmode_gp.append(zmode_gp)\n",
    "    all_zmode_temp.append(zmode_temp)"
   ]
  },
  {
   "cell_type": "markdown",
   "metadata": {},
   "source": [
    "## Plot zmode"
   ]
  },
  {
   "cell_type": "code",
   "execution_count": null,
   "metadata": {},
   "outputs": [],
   "source": [
    "list_of_colors = [\"b\", \"g\", \"r\"]"
   ]
  },
  {
   "cell_type": "code",
   "execution_count": null,
   "metadata": {},
   "outputs": [],
   "source": [
    "N = len(all_configfilenames)\n",
    "N"
   ]
  },
  {
   "cell_type": "code",
   "execution_count": null,
   "metadata": {},
   "outputs": [],
   "source": [
    "fig, ax = plt.subplots(1, 1, figsize=(8, 8))\n",
    "\n",
    "for idx in range(N):\n",
    "    X = all_redshifts_targets[idx]\n",
    "    Y1 = all_zmode_gp[idx]\n",
    "    Y2 = all_zmode_temp[idx]\n",
    "    col = list_of_colors[idx]\n",
    "    if idx == 0:\n",
    "        ax.scatter(X, Y1, marker=\"o\", c=col, s=20, alpha=0.3, label=\"GP\")\n",
    "        ax.scatter(X, Y2, marker=\"+\", c=col, s=20, alpha=0.3, label=\"Templates\")\n",
    "    else:\n",
    "        ax.scatter(X, Y1, marker=\"o\", c=col, s=20, alpha=0.3)\n",
    "        ax.scatter(X, Y2, marker=\"+\", c=col, s=20, alpha=0.3)\n",
    "ax.set_xlabel(\"$z_{true}$\")\n",
    "ax.set_ylabel(\"$z_{phot}$\")\n",
    "ax.legend()\n",
    "ax.set_title(\"Unoptimized Delight\")\n",
    "plt.show()"
   ]
  },
  {
   "cell_type": "code",
   "execution_count": null,
   "metadata": {},
   "outputs": [],
   "source": []
  }
 ],
 "metadata": {
  "anaconda-cloud": {},
  "kernelspec": {
   "display_name": "py310_rail",
   "language": "python",
   "name": "py310_rail"
  },
  "language_info": {
   "codemirror_mode": {
    "name": "ipython",
    "version": 3
   },
   "file_extension": ".py",
   "mimetype": "text/x-python",
   "name": "python",
   "nbconvert_exporter": "python",
   "pygments_lexer": "ipython3",
   "version": "3.10.15"
  }
 },
 "nbformat": 4,
 "nbformat_minor": 4
}
